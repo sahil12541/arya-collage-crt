{
 "cells": [
  {
   "cell_type": "code",
   "execution_count": 1,
   "metadata": {},
   "outputs": [
    {
     "name": "stdout",
     "output_type": "stream",
     "text": [
      "{'name': 'Alice', 'age': 25, 'city': 'New York'}\n"
     ]
    }
   ],
   "source": [
    "#Write a lambda function to merge two lists into a dictionary where one list represents keys and the other represents values.\n",
    "merge_lists = lambda keys, values: dict(zip(keys, values))\n",
    "\n",
    "# Example usage\n",
    "keys = [\"name\", \"age\", \"city\"]\n",
    "values = [\"Alice\", 25, \"New York\"]\n",
    "\n",
    "result = merge_lists(keys, values)\n",
    "print(result)"
   ]
  },
  {
   "cell_type": "code",
   "execution_count": 2,
   "metadata": {},
   "outputs": [
    {
     "name": "stdout",
     "output_type": "stream",
     "text": [
      "Laptop Original Price: ₹50000, Discounted Price: ₹42500.0\n",
      "Smartphone Original Price: ₹30000, Discounted Price: ₹28500.0\n",
      "Headphones Original Price: ₹5000, Discounted Price: ₹4500.0\n"
     ]
    }
   ],
   "source": [
    "#Create a class Product with instance variables name and price. Also,\n",
    "#add a class variable discount _rate and a method to calculate the\n",
    "#discounted price.\n",
    "class Product:\n",
    "    def __init__(self, name, price, discount_rate=10):\n",
    "        self.name = name\n",
    "        self.price = price\n",
    "        self.discount_rate = discount_rate  # Now each product has its own discount rate\n",
    "\n",
    "    def discounted_price(self):\n",
    "        \"\"\"Calculate the price after applying the discount.\"\"\"\n",
    "        discount_amount = (self.discount_rate / 100) * self.price\n",
    "        return self.price - discount_amount\n",
    "\n",
    "# Example usage\n",
    "product1 = Product(\"Laptop\", 50000, 15)   # 15% discount\n",
    "product2 = Product(\"Smartphone\", 30000, 5) # 5% discount\n",
    "product3 = Product(\"Headphones\", 5000)     # Default 10% discount\n",
    "\n",
    "print(f\"{product1.name} Original Price: ₹{product1.price}, Discounted Price: ₹{product1.discounted_price()}\")\n",
    "print(f\"{product2.name} Original Price: ₹{product2.price}, Discounted Price: ₹{product2.discounted_price()}\")\n",
    "print(f\"{product3.name} Original Price: ₹{product3.price}, Discounted Price: ₹{product3.discounted_price()}\")"
   ]
  }
 ],
 "metadata": {
  "kernelspec": {
   "display_name": "Python 3",
   "language": "python",
   "name": "python3"
  },
  "language_info": {
   "codemirror_mode": {
    "name": "ipython",
    "version": 3
   },
   "file_extension": ".py",
   "mimetype": "text/x-python",
   "name": "python",
   "nbconvert_exporter": "python",
   "pygments_lexer": "ipython3",
   "version": "3.13.2"
  }
 },
 "nbformat": 4,
 "nbformat_minor": 2
}
